{
 "cells": [
  {
   "cell_type": "markdown",
   "metadata": {},
   "source": [
    "# Mindora Conv Therapy Module Data Cleaning"
   ]
  },
  {
   "cell_type": "code",
   "execution_count": null,
   "metadata": {},
   "outputs": [],
   "source": [
    "import pandas as pd\n"
   ]
  },
  {
   "cell_type": "code",
   "execution_count": null,
   "metadata": {},
   "outputs": [],
   "source": [
    "df = pd.read_csv('data_csv/aggr_data.csv')"
   ]
  },
  {
   "cell_type": "code",
   "execution_count": null,
   "metadata": {},
   "outputs": [
    {
     "name": "stdout",
     "output_type": "stream",
     "text": [
      "<class 'pandas.core.frame.DataFrame'>\n",
      "RangeIndex: 626332 entries, 0 to 626331\n",
      "Data columns (total 2 columns):\n",
      " #   Column    Non-Null Count   Dtype \n",
      "---  ------    --------------   ----- \n",
      " 0   Context   626332 non-null  object\n",
      " 1   Response  626332 non-null  object\n",
      "dtypes: object(2)\n",
      "memory usage: 9.6+ MB\n"
     ]
    }
   ],
   "source": [
    "df.info()"
   ]
  },
  {
   "cell_type": "code",
   "execution_count": null,
   "metadata": {},
   "outputs": [
    {
     "name": "stdout",
     "output_type": "stream",
     "text": [
      "494766\n",
      "325\n"
     ]
    }
   ],
   "source": [
    "# count instances of the word Charlie in the response column (contains the text of the response)\n",
    "print(df['Response'].str.contains('Charlie').sum())\n",
    "print(df['Context'].str.contains('Charlie').sum())\n"
   ]
  },
  {
   "cell_type": "code",
   "execution_count": null,
   "metadata": {},
   "outputs": [
    {
     "name": "stdout",
     "output_type": "stream",
     "text": [
      "6\n",
      "0\n"
     ]
    }
   ],
   "source": [
    "print(df['Response'].str.contains('@').sum())\n",
    "print(df['Context'].str.contains('@').sum())"
   ]
  },
  {
   "cell_type": "code",
   "execution_count": null,
   "metadata": {},
   "outputs": [
    {
     "name": "stdout",
     "output_type": "stream",
     "text": [
      "0\n",
      "                                                Context  \\\n",
      "5837  After he got home from the hospital he was ang...   \n",
      "6331  How can I maintain social connections? What if...   \n",
      "9443  After he got home from the hospital he was ang...   \n",
      "\n",
      "                                               Response  \n",
      "5837  A failed suicide attempt is commonly thought o...  \n",
      "6331  A lot of people are alone right now, but we do...  \n",
      "9443  A failed suicide attempt is commonly thought o...  \n"
     ]
    }
   ],
   "source": [
    "# delete rows that contain Font Definitions\n",
    "df = df[~df['Response'].str.contains('Font Definitions')]\n",
    "print(df['Response'].str.contains('Font Definitions').sum())\n",
    "\n",
    "#print all the rows that contain the @ in the response column\n",
    "print(df[df['Response'].str.contains('@')])"
   ]
  },
  {
   "cell_type": "code",
   "execution_count": null,
   "metadata": {},
   "outputs": [
    {
     "name": "stdout",
     "output_type": "stream",
     "text": [
      "3\n",
      "0\n"
     ]
    }
   ],
   "source": [
    "print(df['Response'].str.contains('@').sum())\n",
    "print(df['Context'].str.contains('@').sum())"
   ]
  },
  {
   "cell_type": "code",
   "execution_count": null,
   "metadata": {},
   "outputs": [
    {
     "name": "stdout",
     "output_type": "stream",
     "text": [
      "4\n",
      "0\n",
      "1\n",
      "1\n"
     ]
    }
   ],
   "source": [
    "print(df['Response'].str.contains('alex').sum())\n",
    "print(df['Context'].str.contains('alex').sum())\n",
    "print(df['Response'].str.contains('Francis').sum())\n",
    "print(df['Context'].str.contains('Francis').sum())"
   ]
  },
  {
   "cell_type": "code",
   "execution_count": null,
   "metadata": {},
   "outputs": [
    {
     "name": "stdout",
     "output_type": "stream",
     "text": [
      "37\n",
      "31\n"
     ]
    }
   ],
   "source": [
    "print(df['Response'].str.contains('James').sum())\n",
    "print(df['Context'].str.contains('James').sum())"
   ]
  },
  {
   "cell_type": "code",
   "execution_count": null,
   "metadata": {},
   "outputs": [],
   "source": [
    "print(df['Response'].str.contains('Francis').sum())\n",
    "print(df['Context'].str.contains('Francis').sum())"
   ]
  },
  {
   "cell_type": "code",
   "execution_count": null,
   "metadata": {},
   "outputs": [
    {
     "name": "stdout",
     "output_type": "stream",
     "text": [
      "                                                  Context  \\\n",
      "1271    I was raped a couple months ago, Since then, a...   \n",
      "3733    I was raped a couple months ago, Since then, a...   \n",
      "6357       What's the difference between antidepressants?   \n",
      "7339    I was raped a couple months ago, Since then, a...   \n",
      "11067   It's been weeks since the breakup, and I can't...   \n",
      "...                                                   ...   \n",
      "625885  I've been feeling really jealous lately, and I...   \n",
      "625904  I'm afraid to go back to school. It's been so ...   \n",
      "626036  I feel lost. My marriage just ended and I don'...   \n",
      "626076  I feel so guilty and isolated. It's like I'm t...   \n",
      "626326  I've been feeling really depressed lately, and...   \n",
      "\n",
      "                                                 Response  \n",
      "1271    Hi!This is a great question!The term you are l...  \n",
      "3733    Hi!This is a great question!The term you are l...  \n",
      "6357    There are many different types of antidepressa...  \n",
      "7339    Hi!This is a great question!The term you are l...  \n",
      "11067   Hi Charlie, I'm Alex, and I want you to know t...  \n",
      "...                                                   ...  \n",
      "625885  Hi Charlie, I'm Alex, and I'm here to support ...  \n",
      "625904  Hi Charlie, I'm Alex, your therapist. It sound...  \n",
      "626036  Hi Charlie, I'm Alex, your therapist. I'm sorr...  \n",
      "626076  Hi Charlie, I'm Alex, your therapist. I'm here...  \n",
      "626326  Hi Charlie, I'm Alex. I'm here to support you ...  \n",
      "\n",
      "[3092 rows x 2 columns]\n"
     ]
    }
   ],
   "source": [
    "# print all full words containg 'alex' in the dataset\n",
    "print(df[df['Response'].str.contains('alex', case=False)])\n"
   ]
  },
  {
   "cell_type": "code",
   "execution_count": null,
   "metadata": {},
   "outputs": [
    {
     "name": "stdout",
     "output_type": "stream",
     "text": [
      "196\n",
      "143\n",
      "28\n",
      "18\n"
     ]
    }
   ],
   "source": [
    "print(df['Response'].str.contains('John').sum())\n",
    "print(df['Context'].str.contains('John').sum())\n",
    "print(df['Response'].str.contains('Jane').sum())\n",
    "print(df['Context'].str.contains('Jane').sum())"
   ]
  },
  {
   "cell_type": "code",
   "execution_count": null,
   "metadata": {},
   "outputs": [],
   "source": [
    "# delete name Charlie from the text which are conversation\n",
    "df['Context'] = df['Context'].str.replace('Charlie', '')\n",
    "df['Response'] = df['Response'].str.replace('Charlie', '')"
   ]
  },
  {
   "cell_type": "code",
   "execution_count": null,
   "metadata": {},
   "outputs": [],
   "source": []
  },
  {
   "cell_type": "code",
   "execution_count": null,
   "metadata": {},
   "outputs": [],
   "source": []
  },
  {
   "cell_type": "code",
   "execution_count": null,
   "metadata": {},
   "outputs": [],
   "source": [
    "# process the text in the dataframe to remove the unwanted characters\n",
    "df['Context'] = df['Context'].str.replace(r'\\n', ' ')\n",
    "df['Context'] = df['Context'].str.replace(r'\\r', ' ')\n",
    "df['Context'] = df['Context'].str.replace(r'\\t', ' ')\n",
    "df['Context'] = df['Context'].str.replace(r'\\\\', ' ')\n",
    "df['Context'] = df['Context'].str.replace(r'/', ' ')\n",
    "df['Context'] = df['Context'].str.replace(r'\\s+', ' ')\n",
    "\n",
    "df['Response'] = df['Response'].str.replace(r'\\n', ' ')\n",
    "df['Response'] = df['Response'].str.replace(r'\\r', ' ')\n",
    "df['Response'] = df['Response'].str.replace(r'\\t', ' ')\n",
    "df['Response'] = df['Response'].str.replace(r'\\\\', ' ')\n",
    "df['Response'] = df['Response'].str.replace(r'/', ' ')\n",
    "df['Response'] = df['Response'].str.replace(r'\\s+', ' ')\n"
   ]
  },
  {
   "cell_type": "code",
   "execution_count": null,
   "metadata": {},
   "outputs": [],
   "source": [
    "# Remove leading spaces from 'Context' and 'Response'\n",
    "df['Context'] = df['Context'].str.lstrip()\n",
    "df['Response'] = df['Response'].str.lstrip()"
   ]
  },
  {
   "cell_type": "code",
   "execution_count": null,
   "metadata": {},
   "outputs": [],
   "source": [
    "import re\n",
    "\n",
    "def anonymize_text(text):\n",
    "    # remove email addresses\n",
    "    text = re.sub(r'\\b[A-Za-z0-9._%+-]+@[A-Za-z0-9.-]+\\.[A-Z|a-z]{2,}\\b', '[EMAIL]', text)\n",
    "    \n",
    "    # remove phone numbers\n",
    "    text = re.sub(r'\\b\\d{3}[-.\\s]??\\d{3}[-.\\s]??\\d{4}\\b', '[PHONE]', text)\n",
    "    \n",
    "    # remove social security numbers\n",
    "    text = re.sub(r'\\b\\d{3}-\\d{2}-\\d{4}\\b', '[SSN]', text)\n",
    "    \n",
    "    \n",
    "    return text\n"
   ]
  },
  {
   "cell_type": "code",
   "execution_count": null,
   "metadata": {},
   "outputs": [],
   "source": [
    "# import re\n",
    "# def clean_text(text):\n",
    "#     text = text.lower() # convert to lowercase\n",
    "#     text = re.sub(r'\\[.*?\\]', '', text) # remove text in square brackets\n",
    "#     text = re.sub(r'[^\\w\\s]', '', text) # remove punctuation\n",
    "#     text = re.sub(r'\\n', ' ', text) # remove new line characters\n",
    "#     text = re.sub(r'\\w*\\d\\w*', '', text) # remove words containing numbers\n",
    "#     text = re.sub(r'\\s+', ' ', text).strip() # remove extra spaces\n",
    "#     return text"
   ]
  },
  {
   "cell_type": "code",
   "execution_count": null,
   "metadata": {},
   "outputs": [],
   "source": [
    "# df['Context'] = df['Context'].apply(clean_text)\n",
    "# df['Response'] = df['Response'].apply( clean_text)\n"
   ]
  },
  {
   "cell_type": "code",
   "execution_count": null,
   "metadata": {},
   "outputs": [
    {
     "name": "stdout",
     "output_type": "stream",
     "text": [
      "0    <s>[INST] I have so many issues to address. I ...\n",
      "dtype: object\n"
     ]
    }
   ],
   "source": [
    "# Combine 'Context' and 'Response' into a new column with the desired format\n",
    "combined = '<s>[INST] ' + df['Context'] + ' [/INST] ' + df['Response'] + ' </s>'\n",
    "\n",
    "# Display the first 15 rows of the new column\n",
    "print(combined.head(1))"
   ]
  },
  {
   "cell_type": "code",
   "execution_count": null,
   "metadata": {},
   "outputs": [],
   "source": [
    "# save the new column to a csv file\n",
    "combined = combined.rename('text')\n",
    "combined.to_csv('data_csv/mental_health_conv.csv', index=False)"
   ]
  },
  {
   "cell_type": "code",
   "execution_count": null,
   "metadata": {},
   "outputs": [
    {
     "data": {
      "text/html": [
       "<div>\n",
       "<style scoped>\n",
       "    .dataframe tbody tr th:only-of-type {\n",
       "        vertical-align: middle;\n",
       "    }\n",
       "\n",
       "    .dataframe tbody tr th {\n",
       "        vertical-align: top;\n",
       "    }\n",
       "\n",
       "    .dataframe thead th {\n",
       "        text-align: right;\n",
       "    }\n",
       "</style>\n",
       "<table border=\"1\" class=\"dataframe\">\n",
       "  <thead>\n",
       "    <tr style=\"text-align: right;\">\n",
       "      <th></th>\n",
       "      <th>0</th>\n",
       "    </tr>\n",
       "  </thead>\n",
       "  <tbody>\n",
       "    <tr>\n",
       "      <th>0</th>\n",
       "      <td>&lt;s&gt;[INST] I have so many issues to address. I ...</td>\n",
       "    </tr>\n",
       "    <tr>\n",
       "      <th>1</th>\n",
       "      <td>&lt;s&gt;[INST] I have so many issues to address. I ...</td>\n",
       "    </tr>\n",
       "    <tr>\n",
       "      <th>2</th>\n",
       "      <td>&lt;s&gt;[INST] I have so many issues to address. I ...</td>\n",
       "    </tr>\n",
       "    <tr>\n",
       "      <th>3</th>\n",
       "      <td>&lt;s&gt;[INST] I have so many issues to address. I ...</td>\n",
       "    </tr>\n",
       "    <tr>\n",
       "      <th>4</th>\n",
       "      <td>&lt;s&gt;[INST] I have so many issues to address. I ...</td>\n",
       "    </tr>\n",
       "    <tr>\n",
       "      <th>5</th>\n",
       "      <td>&lt;s&gt;[INST] I have so many issues to address. I ...</td>\n",
       "    </tr>\n",
       "    <tr>\n",
       "      <th>6</th>\n",
       "      <td>&lt;s&gt;[INST] I have so many issues to address. I ...</td>\n",
       "    </tr>\n",
       "    <tr>\n",
       "      <th>7</th>\n",
       "      <td>&lt;s&gt;[INST] I have so many issues to address. I ...</td>\n",
       "    </tr>\n",
       "    <tr>\n",
       "      <th>8</th>\n",
       "      <td>&lt;s&gt;[INST] I have so many issues to address. I ...</td>\n",
       "    </tr>\n",
       "    <tr>\n",
       "      <th>9</th>\n",
       "      <td>&lt;s&gt;[INST] I have so many issues to address. I ...</td>\n",
       "    </tr>\n",
       "    <tr>\n",
       "      <th>10</th>\n",
       "      <td>&lt;s&gt;[INST] I have so many issues to address. I ...</td>\n",
       "    </tr>\n",
       "    <tr>\n",
       "      <th>11</th>\n",
       "      <td>&lt;s&gt;[INST] I have so many issues to address. I ...</td>\n",
       "    </tr>\n",
       "    <tr>\n",
       "      <th>12</th>\n",
       "      <td>&lt;s&gt;[INST] I have so many issues to address. I ...</td>\n",
       "    </tr>\n",
       "    <tr>\n",
       "      <th>13</th>\n",
       "      <td>&lt;s&gt;[INST] I have so many issues to address. I ...</td>\n",
       "    </tr>\n",
       "    <tr>\n",
       "      <th>14</th>\n",
       "      <td>&lt;s&gt;[INST] I have so many issues to address. I ...</td>\n",
       "    </tr>\n",
       "  </tbody>\n",
       "</table>\n",
       "</div>"
      ],
      "text/plain": [
       "                                                    0\n",
       "0   <s>[INST] I have so many issues to address. I ...\n",
       "1   <s>[INST] I have so many issues to address. I ...\n",
       "2   <s>[INST] I have so many issues to address. I ...\n",
       "3   <s>[INST] I have so many issues to address. I ...\n",
       "4   <s>[INST] I have so many issues to address. I ...\n",
       "5   <s>[INST] I have so many issues to address. I ...\n",
       "6   <s>[INST] I have so many issues to address. I ...\n",
       "7   <s>[INST] I have so many issues to address. I ...\n",
       "8   <s>[INST] I have so many issues to address. I ...\n",
       "9   <s>[INST] I have so many issues to address. I ...\n",
       "10  <s>[INST] I have so many issues to address. I ...\n",
       "11  <s>[INST] I have so many issues to address. I ...\n",
       "12  <s>[INST] I have so many issues to address. I ...\n",
       "13  <s>[INST] I have so many issues to address. I ...\n",
       "14  <s>[INST] I have so many issues to address. I ..."
      ]
     },
     "execution_count": 104,
     "metadata": {},
     "output_type": "execute_result"
    }
   ],
   "source": [
    "data = pd.read_csv('data_csv/mental_health_conv.csv')\n",
    "data.head(15)"
   ]
  },
  {
   "cell_type": "code",
   "execution_count": null,
   "metadata": {},
   "outputs": [
    {
     "name": "stdout",
     "output_type": "stream",
     "text": [
      "<class 'pandas.core.frame.DataFrame'>\n",
      "RangeIndex: 626332 entries, 0 to 626331\n",
      "Data columns (total 1 columns):\n",
      " #   Column  Non-Null Count   Dtype \n",
      "---  ------  --------------   ----- \n",
      " 0   0       626332 non-null  object\n",
      "dtypes: object(1)\n",
      "memory usage: 4.8+ MB\n"
     ]
    }
   ],
   "source": [
    "data.info()"
   ]
  },
  {
   "cell_type": "code",
   "execution_count": null,
   "metadata": {},
   "outputs": [
    {
     "name": "stdout",
     "output_type": "stream",
     "text": [
      "<class 'pandas.core.series.Series'>\n",
      "RangeIndex: 626332 entries, 0 to 626331\n",
      "Series name: text\n",
      "Non-Null Count   Dtype \n",
      "--------------   ----- \n",
      "626332 non-null  object\n",
      "dtypes: object(1)\n",
      "memory usage: 4.8+ MB\n"
     ]
    }
   ],
   "source": [
    "combined.info()"
   ]
  },
  {
   "cell_type": "markdown",
   "metadata": {},
   "source": [
    "### Handle names discovered in name_extraction"
   ]
  },
  {
   "cell_type": "code",
   "execution_count": null,
   "metadata": {},
   "outputs": [],
   "source": [
    "# TODO: "
   ]
  }
 ],
 "metadata": {
  "kernelspec": {
   "display_name": "Python 3",
   "language": "python",
   "name": "python3"
  },
  "language_info": {
   "codemirror_mode": {
    "name": "ipython",
    "version": 3
   },
   "file_extension": ".py",
   "mimetype": "text/x-python",
   "name": "python",
   "nbconvert_exporter": "python",
   "pygments_lexer": "ipython3",
   "version": "3.11.4"
  }
 },
 "nbformat": 4,
 "nbformat_minor": 2
}
