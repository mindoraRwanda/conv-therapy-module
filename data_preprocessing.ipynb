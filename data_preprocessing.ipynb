{
 "cells": [
  {
   "cell_type": "markdown",
   "metadata": {},
   "source": [
    "# MINDORA DATA preprocessing\n"
   ]
  },
  {
   "cell_type": "markdown",
   "metadata": {},
   "source": [
    "## Data Collection From Different Sources\n"
   ]
  },
  {
   "cell_type": "markdown",
   "metadata": {},
   "source": [
    "### 1. Amod/mental_health_counseling_conversations 3.51k rows"
   ]
  },
  {
   "cell_type": "code",
   "execution_count": 24,
   "metadata": {},
   "outputs": [],
   "source": [
    "from datasets import load_dataset\n",
    "\n",
    "# Load the dataset\n",
    "dataset1 = load_dataset('Amod/mental_health_counseling_conversations', split='train')\n"
   ]
  },
  {
   "cell_type": "code",
   "execution_count": 25,
   "metadata": {},
   "outputs": [],
   "source": [
    "import pandas as pd\n",
    "\n",
    "# convert to pandas dataframe\n",
    "df = dataset1.to_pandas()\n",
    "\n",
    "# write to csv\n",
    "df.to_csv('data_csv/mental_health_counseling_conversations.csv', index=False)\n"
   ]
  },
  {
   "cell_type": "code",
   "execution_count": null,
   "metadata": {},
   "outputs": [
    {
     "name": "stdout",
     "output_type": "stream",
     "text": [
      "{'Context': \"I'm going through some things with my feelings and myself. I barely sleep and I do nothing but think about how I'm worthless and how I shouldn't be here.\\n   I've never tried or contemplated suicide. I've always wanted to fix my issues, but I never get around to it.\\n   How can I change my feeling of being worthless to everyone?\", 'Response': \"If everyone thinks you're worthless, then maybe you need to find new people to hang out with.Seriously, the social context in which a person lives is a big influence in self-esteem.Otherwise, you can go round and round trying to understand why you're not worthless, then go back to the same crowd and be knocked down again.There are many inspirational messages you can find in social media. \\xa0Maybe read some of the ones which state that no person is worthless, and that everyone has a good purpose to their life.Also, since our culture is so saturated with the belief that if someone doesn't feel good about themselves that this is somehow terrible.Bad feelings are part of living. \\xa0They are the motivation to remove ourselves from situations and relationships which do us more harm than good.Bad feelings do feel terrible. \\xa0 Your feeling of worthlessness may be good in the sense of motivating you to find out that you are much better than your feelings today.\"}\n"
     ]
    }
   ],
   "source": [
    "# check the first row\n",
    "print(dataset[0])"
   ]
  },
  {
   "cell_type": "markdown",
   "metadata": {},
   "source": [
    "### 2 synth_therapy_convos_train.csv"
   ]
  },
  {
   "cell_type": "code",
   "execution_count": 28,
   "metadata": {},
   "outputs": [],
   "source": [
    "# load the data from csv file\n",
    "dataset2 = pd.read_csv(\"synth_therapy_convos_train.csv\")\n",
    "\n"
   ]
  },
  {
   "cell_type": "code",
   "execution_count": 29,
   "metadata": {},
   "outputs": [
    {
     "name": "stdout",
     "output_type": "stream",
     "text": [
      "                                             Context  \\\n",
      "0  I've been feeling so sad and overwhelmed latel...   \n",
      "1  I recently got a promotion at work, which I th...   \n",
      "2  Well, the workload has increased significantly...   \n",
      "3  I've been trying to prioritize my tasks and de...   \n",
      "4  You're right. I haven't really opened up about...   \n",
      "\n",
      "                                            Response  \n",
      "0  Hey there, I'm here to listen and support you....  \n",
      "1  I can understand how it can be overwhelming wh...  \n",
      "2  It sounds like you're dealing with a lot of pr...  \n",
      "3  It's great to hear that you're already impleme...  \n",
      "4  It's completely normal to feel that way, but r...  \n"
     ]
    }
   ],
   "source": [
    "import pandas as pd\n",
    "import re\n",
    "\n",
    "# load the dataset\n",
    "file_path = 'synth_therapy_convos_train.csv'\n",
    "dataset = pd.read_csv(file_path)\n",
    "\n",
    "# initialize lists to store context and response pairs\n",
    "contexts = []\n",
    "responses = []\n",
    "\n",
    "# Regular expression patterns to match human and gpt messages\n",
    "human_pattern = re.compile(r\"\\{'from': 'human', 'value': \\\"(.*?)\\\"\\}\")\n",
    "gpt_pattern = re.compile(r\"\\{'from': 'gpt', 'value': \\\"(.*?)\\\"\\}\")\n",
    "\n",
    "# loop through the dataset to extract context-response pairs from the string\n",
    "for conv in dataset['conversations']:\n",
    "    \n",
    "    human_messages = human_pattern.findall(conv)\n",
    "   \n",
    "    gpt_messages = gpt_pattern.findall(conv)\n",
    "    min_len = min(len(human_messages), len(gpt_messages))\n",
    "    for i in range(min_len):\n",
    "        contexts.append(human_messages[i])\n",
    "        responses.append(gpt_messages[i])\n",
    "\n",
    "# create a new DataFrame with context and response columns\n",
    "conversation_pairs = pd.DataFrame({\n",
    "    'Context': contexts,\n",
    "    'Response': responses\n",
    "})\n",
    "\n",
    "# save the new dataframe to a csv file\n",
    "output_file_path = 'data_csv/synth_therapy_conversation_pairs.csv'\n",
    "conversation_pairs.to_csv(output_file_path, index=False)\n",
    "\n",
    "# display the first few rows of the new dataframe\n",
    "print(conversation_pairs.head())\n"
   ]
  },
  {
   "cell_type": "markdown",
   "metadata": {},
   "source": [
    "### 3. ZahrizhalAli/mental_health_conversational_dataset"
   ]
  },
  {
   "cell_type": "code",
   "execution_count": null,
   "metadata": {},
   "outputs": [
    {
     "name": "stdout",
     "output_type": "stream",
     "text": [
      "{'text': '<HUMAN>: What is a panic attack?\\n<ASSISTANT>: Panic attacks come on suddenly and involve intense and often overwhelming fear. They’re accompanied by very challenging physical symptoms, like a racing heartbeat, shortness of breath, or nausea. Unexpected panic attacks occur without an obvious cause. Expected panic attacks are cued by external stressors, like phobias. Panic attacks can happen to anyone, but having more than one may be a sign of panic disorder, a mental health condition characterized by sudden and repeated panic attacks.'}\n"
     ]
    }
   ],
   "source": [
    "# load the dataset\n",
    "from datasets import load_dataset\n",
    "dataset3 = load_dataset('ZahrizhalAli/mental_health_conversational_dataset', split='train')\n",
    "print(dataset3[0])"
   ]
  },
  {
   "cell_type": "code",
   "execution_count": 21,
   "metadata": {},
   "outputs": [
    {
     "data": {
      "text/html": [
       "<div>\n",
       "<style scoped>\n",
       "    .dataframe tbody tr th:only-of-type {\n",
       "        vertical-align: middle;\n",
       "    }\n",
       "\n",
       "    .dataframe tbody tr th {\n",
       "        vertical-align: top;\n",
       "    }\n",
       "\n",
       "    .dataframe thead th {\n",
       "        text-align: right;\n",
       "    }\n",
       "</style>\n",
       "<table border=\"1\" class=\"dataframe\">\n",
       "  <thead>\n",
       "    <tr style=\"text-align: right;\">\n",
       "      <th></th>\n",
       "      <th>text</th>\n",
       "    </tr>\n",
       "  </thead>\n",
       "  <tbody>\n",
       "    <tr>\n",
       "      <th>0</th>\n",
       "      <td>&lt;HUMAN&gt;: What is a panic attack?\\n&lt;ASSISTANT&gt;:...</td>\n",
       "    </tr>\n",
       "    <tr>\n",
       "      <th>1</th>\n",
       "      <td>&lt;HUMAN&gt;: What are symptoms of panic attack vs....</td>\n",
       "    </tr>\n",
       "    <tr>\n",
       "      <th>2</th>\n",
       "      <td>&lt;HUMAN&gt;: What are the types of Mental Illness?...</td>\n",
       "    </tr>\n",
       "    <tr>\n",
       "      <th>3</th>\n",
       "      <td>&lt;HUMAN&gt;: What does mental-illness mean?\\n&lt;ASSI...</td>\n",
       "    </tr>\n",
       "    <tr>\n",
       "      <th>4</th>\n",
       "      <td>&lt;HUMAN&gt;: How can you treat mental illness?\\n&lt;A...</td>\n",
       "    </tr>\n",
       "  </tbody>\n",
       "</table>\n",
       "</div>"
      ],
      "text/plain": [
       "                                                text\n",
       "0  <HUMAN>: What is a panic attack?\\n<ASSISTANT>:...\n",
       "1  <HUMAN>: What are symptoms of panic attack vs....\n",
       "2  <HUMAN>: What are the types of Mental Illness?...\n",
       "3  <HUMAN>: What does mental-illness mean?\\n<ASSI...\n",
       "4  <HUMAN>: How can you treat mental illness?\\n<A..."
      ]
     },
     "execution_count": 21,
     "metadata": {},
     "output_type": "execute_result"
    }
   ],
   "source": [
    "# dataset3 to pandas dataframe\n",
    "df3 = dataset3.to_pandas()\n",
    "df3.head()"
   ]
  },
  {
   "cell_type": "code",
   "execution_count": 22,
   "metadata": {},
   "outputs": [
    {
     "name": "stdout",
     "output_type": "stream",
     "text": [
      "                                             context  \\\n",
      "0                            What is a panic attack?   \n",
      "1  What are symptoms of panic attack vs. anxiety ...   \n",
      "2              What are the types of Mental Illness?   \n",
      "3                     What does mental-illness mean?   \n",
      "4                  How can you treat mental illness?   \n",
      "\n",
      "                                            response  \n",
      "0  Panic attacks come on suddenly and involve int...  \n",
      "1  Panic attacks and anxiety attacks can share so...  \n",
      "2  There are many different conditions that are r...  \n",
      "3  Mental illness is a group of biological brain ...  \n",
      "4  The treatment of mental illness is a multi-fac...  \n"
     ]
    }
   ],
   "source": [
    "import pandas as pd\n",
    "import re\n",
    "\n",
    "\n",
    "# initialize lists to store context and response pairs\n",
    "contexts = []\n",
    "responses = []\n",
    "\n",
    "# regular expression pattern to match human and assistant messages\n",
    "pattern = re.compile(r\"<HUMAN>:\\s*(.*?)\\s*<ASSISTANT>:\\s*(.*)\")\n",
    "\n",
    "# loop through the dataset to extract context-response pairs from the string\n",
    "for conv in df3['text']:\n",
    "    match = pattern.search(conv)\n",
    "    if match:\n",
    "        context = match.group(1).strip()\n",
    "        response = match.group(2).strip()\n",
    "        contexts.append(context)\n",
    "        responses.append(response)\n",
    "\n",
    "# create a new DataFrame with context and response columns\n",
    "conversation_pairs = pd.DataFrame({\n",
    "    'Context': contexts,\n",
    "    'Response': responses\n",
    "})\n",
    "\n",
    "\n",
    "# display the first few rows of the new DataFrame\n",
    "print(conversation_pairs.head())\n",
    "\n"
   ]
  },
  {
   "cell_type": "code",
   "execution_count": 23,
   "metadata": {},
   "outputs": [],
   "source": [
    "# Save the new DataFrame to a csv file\n",
    "output_file_path = 'data_csv/mental_health_conversational_dataset.csv'\n",
    "conversation_pairs.to_csv(output_file_path, index=False)"
   ]
  },
  {
   "cell_type": "markdown",
   "metadata": {},
   "source": [
    "### 4. nbertagnolli/counsel-chat"
   ]
  },
  {
   "cell_type": "code",
   "execution_count": 43,
   "metadata": {},
   "outputs": [
    {
     "name": "stderr",
     "output_type": "stream",
     "text": [
      "Repo card metadata block was not found. Setting CardData to empty.\n"
     ]
    },
    {
     "data": {
      "text/html": [
       "<div>\n",
       "<style scoped>\n",
       "    .dataframe tbody tr th:only-of-type {\n",
       "        vertical-align: middle;\n",
       "    }\n",
       "\n",
       "    .dataframe tbody tr th {\n",
       "        vertical-align: top;\n",
       "    }\n",
       "\n",
       "    .dataframe thead th {\n",
       "        text-align: right;\n",
       "    }\n",
       "</style>\n",
       "<table border=\"1\" class=\"dataframe\">\n",
       "  <thead>\n",
       "    <tr style=\"text-align: right;\">\n",
       "      <th></th>\n",
       "      <th>questionID</th>\n",
       "      <th>questionTitle</th>\n",
       "      <th>questionText</th>\n",
       "      <th>questionLink</th>\n",
       "      <th>topic</th>\n",
       "      <th>therapistInfo</th>\n",
       "      <th>therapistURL</th>\n",
       "      <th>answerText</th>\n",
       "      <th>upvotes</th>\n",
       "      <th>views</th>\n",
       "    </tr>\n",
       "  </thead>\n",
       "  <tbody>\n",
       "    <tr>\n",
       "      <th>0</th>\n",
       "      <td>0</td>\n",
       "      <td>Do I have too many issues for counseling?</td>\n",
       "      <td>I have so many issues to address. I have a his...</td>\n",
       "      <td>https://counselchat.com/questions/do-i-have-to...</td>\n",
       "      <td>depression</td>\n",
       "      <td>Jennifer MolinariHypnotherapist &amp; Licensed Cou...</td>\n",
       "      <td>https://counselchat.com/therapists/jennifer-mo...</td>\n",
       "      <td>It is very common for people to have multiple ...</td>\n",
       "      <td>3</td>\n",
       "      <td>1971</td>\n",
       "    </tr>\n",
       "    <tr>\n",
       "      <th>1</th>\n",
       "      <td>0</td>\n",
       "      <td>Do I have too many issues for counseling?</td>\n",
       "      <td>I have so many issues to address. I have a his...</td>\n",
       "      <td>https://counselchat.com/questions/do-i-have-to...</td>\n",
       "      <td>depression</td>\n",
       "      <td>Jason Lynch, MS, LMHC, LCAC, ADSIndividual &amp; C...</td>\n",
       "      <td>https://counselchat.com/therapists/jason-lynch...</td>\n",
       "      <td>I've never heard of someone having \"too many i...</td>\n",
       "      <td>2</td>\n",
       "      <td>386</td>\n",
       "    </tr>\n",
       "    <tr>\n",
       "      <th>2</th>\n",
       "      <td>0</td>\n",
       "      <td>Do I have too many issues for counseling?</td>\n",
       "      <td>I have so many issues to address. I have a his...</td>\n",
       "      <td>https://counselchat.com/questions/do-i-have-to...</td>\n",
       "      <td>depression</td>\n",
       "      <td>Shakeeta TorresFaith Based Mental Health Couns...</td>\n",
       "      <td>https://counselchat.com/therapists/shakeeta-to...</td>\n",
       "      <td>Absolutely not.  I strongly recommending worki...</td>\n",
       "      <td>2</td>\n",
       "      <td>3071</td>\n",
       "    </tr>\n",
       "    <tr>\n",
       "      <th>3</th>\n",
       "      <td>0</td>\n",
       "      <td>Do I have too many issues for counseling?</td>\n",
       "      <td>I have so many issues to address. I have a his...</td>\n",
       "      <td>https://counselchat.com/questions/do-i-have-to...</td>\n",
       "      <td>depression</td>\n",
       "      <td>Noorayne ChevalierMA, RP, CCC, CCAC, LLP (Mich...</td>\n",
       "      <td>https://counselchat.com/therapists/noorayne-ch...</td>\n",
       "      <td>Let me start by saying there are never too man...</td>\n",
       "      <td>2</td>\n",
       "      <td>2643</td>\n",
       "    </tr>\n",
       "    <tr>\n",
       "      <th>4</th>\n",
       "      <td>0</td>\n",
       "      <td>Do I have too many issues for counseling?</td>\n",
       "      <td>I have so many issues to address. I have a his...</td>\n",
       "      <td>https://counselchat.com/questions/do-i-have-to...</td>\n",
       "      <td>depression</td>\n",
       "      <td>Toni Teixeira, LCSWYour road to healing begins...</td>\n",
       "      <td>https://counselchat.com/therapists/toni-teixei...</td>\n",
       "      <td>I just want to acknowledge you for the courage...</td>\n",
       "      <td>1</td>\n",
       "      <td>256</td>\n",
       "    </tr>\n",
       "  </tbody>\n",
       "</table>\n",
       "</div>"
      ],
      "text/plain": [
       "   questionID                              questionTitle  \\\n",
       "0           0  Do I have too many issues for counseling?   \n",
       "1           0  Do I have too many issues for counseling?   \n",
       "2           0  Do I have too many issues for counseling?   \n",
       "3           0  Do I have too many issues for counseling?   \n",
       "4           0  Do I have too many issues for counseling?   \n",
       "\n",
       "                                        questionText  \\\n",
       "0  I have so many issues to address. I have a his...   \n",
       "1  I have so many issues to address. I have a his...   \n",
       "2  I have so many issues to address. I have a his...   \n",
       "3  I have so many issues to address. I have a his...   \n",
       "4  I have so many issues to address. I have a his...   \n",
       "\n",
       "                                        questionLink       topic  \\\n",
       "0  https://counselchat.com/questions/do-i-have-to...  depression   \n",
       "1  https://counselchat.com/questions/do-i-have-to...  depression   \n",
       "2  https://counselchat.com/questions/do-i-have-to...  depression   \n",
       "3  https://counselchat.com/questions/do-i-have-to...  depression   \n",
       "4  https://counselchat.com/questions/do-i-have-to...  depression   \n",
       "\n",
       "                                       therapistInfo  \\\n",
       "0  Jennifer MolinariHypnotherapist & Licensed Cou...   \n",
       "1  Jason Lynch, MS, LMHC, LCAC, ADSIndividual & C...   \n",
       "2  Shakeeta TorresFaith Based Mental Health Couns...   \n",
       "3  Noorayne ChevalierMA, RP, CCC, CCAC, LLP (Mich...   \n",
       "4  Toni Teixeira, LCSWYour road to healing begins...   \n",
       "\n",
       "                                        therapistURL  \\\n",
       "0  https://counselchat.com/therapists/jennifer-mo...   \n",
       "1  https://counselchat.com/therapists/jason-lynch...   \n",
       "2  https://counselchat.com/therapists/shakeeta-to...   \n",
       "3  https://counselchat.com/therapists/noorayne-ch...   \n",
       "4  https://counselchat.com/therapists/toni-teixei...   \n",
       "\n",
       "                                          answerText  upvotes  views  \n",
       "0  It is very common for people to have multiple ...        3   1971  \n",
       "1  I've never heard of someone having \"too many i...        2    386  \n",
       "2  Absolutely not.  I strongly recommending worki...        2   3071  \n",
       "3  Let me start by saying there are never too man...        2   2643  \n",
       "4  I just want to acknowledge you for the courage...        1    256  "
      ]
     },
     "execution_count": 43,
     "metadata": {},
     "output_type": "execute_result"
    }
   ],
   "source": [
    "from datasets import load_dataset\n",
    "dataset4 = load_dataset('nbertagnolli/counsel-chat', split='train')\n",
    "\n",
    "# dataset4 to pandas dataframe\n",
    "df4 = dataset4.to_pandas()\n",
    "df4.head()"
   ]
  },
  {
   "cell_type": "code",
   "execution_count": 44,
   "metadata": {},
   "outputs": [
    {
     "data": {
      "text/html": [
       "<div>\n",
       "<style scoped>\n",
       "    .dataframe tbody tr th:only-of-type {\n",
       "        vertical-align: middle;\n",
       "    }\n",
       "\n",
       "    .dataframe tbody tr th {\n",
       "        vertical-align: top;\n",
       "    }\n",
       "\n",
       "    .dataframe thead th {\n",
       "        text-align: right;\n",
       "    }\n",
       "</style>\n",
       "<table border=\"1\" class=\"dataframe\">\n",
       "  <thead>\n",
       "    <tr style=\"text-align: right;\">\n",
       "      <th></th>\n",
       "      <th>questionText</th>\n",
       "      <th>answerText</th>\n",
       "    </tr>\n",
       "  </thead>\n",
       "  <tbody>\n",
       "    <tr>\n",
       "      <th>0</th>\n",
       "      <td>I have so many issues to address. I have a his...</td>\n",
       "      <td>It is very common for people to have multiple ...</td>\n",
       "    </tr>\n",
       "    <tr>\n",
       "      <th>1</th>\n",
       "      <td>I have so many issues to address. I have a his...</td>\n",
       "      <td>I've never heard of someone having \"too many i...</td>\n",
       "    </tr>\n",
       "    <tr>\n",
       "      <th>2</th>\n",
       "      <td>I have so many issues to address. I have a his...</td>\n",
       "      <td>Absolutely not.  I strongly recommending worki...</td>\n",
       "    </tr>\n",
       "    <tr>\n",
       "      <th>3</th>\n",
       "      <td>I have so many issues to address. I have a his...</td>\n",
       "      <td>Let me start by saying there are never too man...</td>\n",
       "    </tr>\n",
       "    <tr>\n",
       "      <th>4</th>\n",
       "      <td>I have so many issues to address. I have a his...</td>\n",
       "      <td>I just want to acknowledge you for the courage...</td>\n",
       "    </tr>\n",
       "  </tbody>\n",
       "</table>\n",
       "</div>"
      ],
      "text/plain": [
       "                                        questionText  \\\n",
       "0  I have so many issues to address. I have a his...   \n",
       "1  I have so many issues to address. I have a his...   \n",
       "2  I have so many issues to address. I have a his...   \n",
       "3  I have so many issues to address. I have a his...   \n",
       "4  I have so many issues to address. I have a his...   \n",
       "\n",
       "                                          answerText  \n",
       "0  It is very common for people to have multiple ...  \n",
       "1  I've never heard of someone having \"too many i...  \n",
       "2  Absolutely not.  I strongly recommending worki...  \n",
       "3  Let me start by saying there are never too man...  \n",
       "4  I just want to acknowledge you for the courage...  "
      ]
     },
     "execution_count": 44,
     "metadata": {},
     "output_type": "execute_result"
    }
   ],
   "source": [
    "# select only the questionText and answerText columns\n",
    "df4 = df4[['questionText','answerText']]\n",
    "df4.head()"
   ]
  },
  {
   "cell_type": "code",
   "execution_count": 47,
   "metadata": {},
   "outputs": [
    {
     "name": "stdout",
     "output_type": "stream",
     "text": [
      "<class 'pandas.core.frame.DataFrame'>\n",
      "Index: 2612 entries, 0 to 2774\n",
      "Data columns (total 2 columns):\n",
      " #   Column    Non-Null Count  Dtype \n",
      "---  ------    --------------  ----- \n",
      " 0   Context   2612 non-null   object\n",
      " 1   Response  2612 non-null   object\n",
      "dtypes: object(2)\n",
      "memory usage: 61.2+ KB\n"
     ]
    }
   ],
   "source": [
    "# rename the columns to 'Context' and 'Response'\n",
    "df4.columns = ['Context', 'Response']\n",
    "\n",
    "# drop rows with missing values\n",
    "df4.dropna(inplace=True, axis=0)\n",
    "df4.info()\n"
   ]
  },
  {
   "cell_type": "code",
   "execution_count": 48,
   "metadata": {},
   "outputs": [],
   "source": [
    "# save the new DataFrame to a csv file\n",
    "df4.to_csv('data_csv/counsel_chat.csv', index=False)"
   ]
  },
  {
   "cell_type": "markdown",
   "metadata": {},
   "source": [
    "### 5 tolu07/Mental_Health_FAQ"
   ]
  },
  {
   "cell_type": "code",
   "execution_count": 54,
   "metadata": {},
   "outputs": [],
   "source": [
    "# load the dataset\n",
    "dataset5 = load_dataset('tolu07/Mental_Health_FAQ', split='train')"
   ]
  },
  {
   "cell_type": "code",
   "execution_count": 57,
   "metadata": {},
   "outputs": [
    {
     "data": {
      "text/html": [
       "<div>\n",
       "<style scoped>\n",
       "    .dataframe tbody tr th:only-of-type {\n",
       "        vertical-align: middle;\n",
       "    }\n",
       "\n",
       "    .dataframe tbody tr th {\n",
       "        vertical-align: top;\n",
       "    }\n",
       "\n",
       "    .dataframe thead th {\n",
       "        text-align: right;\n",
       "    }\n",
       "</style>\n",
       "<table border=\"1\" class=\"dataframe\">\n",
       "  <thead>\n",
       "    <tr style=\"text-align: right;\">\n",
       "      <th></th>\n",
       "      <th>Question_ID</th>\n",
       "      <th>Questions</th>\n",
       "      <th>Answers</th>\n",
       "    </tr>\n",
       "  </thead>\n",
       "  <tbody>\n",
       "    <tr>\n",
       "      <th>0</th>\n",
       "      <td>1590140</td>\n",
       "      <td>What does it mean to have a mental illness?</td>\n",
       "      <td>Mental illnesses are health conditions that di...</td>\n",
       "    </tr>\n",
       "    <tr>\n",
       "      <th>1</th>\n",
       "      <td>2110618</td>\n",
       "      <td>Who does mental illness affect?</td>\n",
       "      <td>It is estimated that mental illness affects 1 ...</td>\n",
       "    </tr>\n",
       "    <tr>\n",
       "      <th>2</th>\n",
       "      <td>6361820</td>\n",
       "      <td>What causes mental illness?</td>\n",
       "      <td>It is estimated that mental illness affects 1 ...</td>\n",
       "    </tr>\n",
       "    <tr>\n",
       "      <th>3</th>\n",
       "      <td>9434130</td>\n",
       "      <td>What are some of the warning signs of mental i...</td>\n",
       "      <td>Symptoms of mental health disorders vary depen...</td>\n",
       "    </tr>\n",
       "    <tr>\n",
       "      <th>4</th>\n",
       "      <td>7657263</td>\n",
       "      <td>Can people with mental illness recover?</td>\n",
       "      <td>When healing from mental illness, early identi...</td>\n",
       "    </tr>\n",
       "  </tbody>\n",
       "</table>\n",
       "</div>"
      ],
      "text/plain": [
       "   Question_ID                                          Questions  \\\n",
       "0      1590140        What does it mean to have a mental illness?   \n",
       "1      2110618                    Who does mental illness affect?   \n",
       "2      6361820                        What causes mental illness?   \n",
       "3      9434130  What are some of the warning signs of mental i...   \n",
       "4      7657263            Can people with mental illness recover?   \n",
       "\n",
       "                                             Answers  \n",
       "0  Mental illnesses are health conditions that di...  \n",
       "1  It is estimated that mental illness affects 1 ...  \n",
       "2  It is estimated that mental illness affects 1 ...  \n",
       "3  Symptoms of mental health disorders vary depen...  \n",
       "4  When healing from mental illness, early identi...  "
      ]
     },
     "execution_count": 57,
     "metadata": {},
     "output_type": "execute_result"
    }
   ],
   "source": [
    "# dataset to pandas dataframe\n",
    "df5 = dataset5.to_pandas()\n",
    "df5.head()\n"
   ]
  },
  {
   "cell_type": "code",
   "execution_count": 58,
   "metadata": {},
   "outputs": [
    {
     "name": "stdout",
     "output_type": "stream",
     "text": [
      "<class 'pandas.core.frame.DataFrame'>\n",
      "RangeIndex: 98 entries, 0 to 97\n",
      "Data columns (total 2 columns):\n",
      " #   Column    Non-Null Count  Dtype \n",
      "---  ------    --------------  ----- \n",
      " 0   Context   98 non-null     object\n",
      " 1   Response  98 non-null     object\n",
      "dtypes: object(2)\n",
      "memory usage: 1.7+ KB\n"
     ]
    }
   ],
   "source": [
    "# select only the Questions and Answers columns\n",
    "df5 = df5[['Questions','Answers']]\n",
    "# rename the columns to 'Context' and 'Response'\n",
    "df5.columns = ['Context', 'Response']\n",
    "df5.info()"
   ]
  },
  {
   "cell_type": "code",
   "execution_count": null,
   "metadata": {},
   "outputs": [],
   "source": [
    "# save the new DataFrame to a csv file\n",
    "df5.to_csv('data_csv/mental_health_faq.csv', index=False)"
   ]
  },
  {
   "cell_type": "markdown",
   "metadata": {},
   "source": [
    "## Concatenate Datasets into one"
   ]
  },
  {
   "cell_type": "code",
   "execution_count": 1,
   "metadata": {},
   "outputs": [],
   "source": [
    "import pandas as pd\n",
    "df1 = pd.read_csv('data_csv/counsel_chat.csv')\n",
    "df2 = pd.read_csv('data_csv/mental_health_conversational_dataset.csv')\n",
    "df3 = pd.read_csv('data_csv/mental_health_counseling_conversations.csv')\n",
    "df4 = pd.read_csv('data_csv/mental_health_faq.csv')\n",
    "df5 = pd.read_csv('data_csv/nlp_mental_health_convs.csv')\n",
    "df6 = pd.read_csv('data_csv/synth_therapy_conversation_pairs.csv')"
   ]
  },
  {
   "cell_type": "code",
   "execution_count": 2,
   "metadata": {},
   "outputs": [
    {
     "name": "stdout",
     "output_type": "stream",
     "text": [
      "Index(['Context', 'Response'], dtype='object')\n",
      "Index(['Context', 'Response'], dtype='object')\n",
      "Index(['Context', 'Response'], dtype='object')\n",
      "Index(['Context', 'Response'], dtype='object')\n",
      "Index(['Context', 'Response'], dtype='object')\n",
      "Index(['Context', 'Response'], dtype='object')\n"
     ]
    }
   ],
   "source": [
    "# df_all = [df1, df2, df3, df4, df5, df6]\n",
    "\n",
    "# # show all columns in the dataframes\n",
    "# for df in df_all:\n",
    "#     print(df.columns)"
   ]
  },
  {
   "cell_type": "code",
   "execution_count": null,
   "metadata": {},
   "outputs": [],
   "source": [
    "# join the dataframes\n",
    "df = pd.concat([df1, df2, df3, df4, df5, df6])"
   ]
  },
  {
   "cell_type": "code",
   "execution_count": null,
   "metadata": {},
   "outputs": [],
   "source": [
    "df.info()"
   ]
  },
  {
   "cell_type": "code",
   "execution_count": null,
   "metadata": {},
   "outputs": [],
   "source": [
    "# drop rows with missing values\n",
    "df = df.dropna()"
   ]
  },
  {
   "cell_type": "code",
   "execution_count": null,
   "metadata": {},
   "outputs": [],
   "source": [
    "df.info()\n",
    "df.to_csv('data_csv/aggr_data.csv', index=False)"
   ]
  },
  {
   "cell_type": "markdown",
   "metadata": {},
   "source": [
    "## 6. final dataset"
   ]
  },
  {
   "cell_type": "code",
   "execution_count": 1,
   "metadata": {},
   "outputs": [],
   "source": [
    "from datasets import load_dataset\n",
    "dataset6 = load_dataset('francistate/mental_health_conv', split='train')\n"
   ]
  }
 ],
 "metadata": {
  "kernelspec": {
   "display_name": "Python 3",
   "language": "python",
   "name": "python3"
  },
  "language_info": {
   "codemirror_mode": {
    "name": "ipython",
    "version": 3
   },
   "file_extension": ".py",
   "mimetype": "text/x-python",
   "name": "python",
   "nbconvert_exporter": "python",
   "pygments_lexer": "ipython3",
   "version": "3.11.4"
  }
 },
 "nbformat": 4,
 "nbformat_minor": 2
}
